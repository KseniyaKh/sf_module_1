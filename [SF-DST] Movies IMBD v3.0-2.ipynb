{
 "cells": [
  {
   "cell_type": "code",
   "execution_count": null,
   "metadata": {
    "_cell_guid": "b1076dfc-b9ad-4769-8c92-a6c4dae69d19",
    "_uuid": "8f2839f25d086af736a60e9eeb907d3b93b6e0e5"
   },
   "outputs": [],
   "source": [
    "import numpy as np\n",
    "import pandas as pd\n",
    "import seaborn as sns\n",
    "import matplotlib.pyplot as plt\n",
    "import os\n",
    "from collections import Counter\n",
    "print(os.listdir(\"/Users/kseniahabipova/Downloads/input\"))"
   ]
  },
  {
   "cell_type": "code",
   "execution_count": 457,
   "metadata": {},
   "outputs": [
    {
     "data": {
      "text/html": [
       "<div>\n",
       "<style scoped>\n",
       "    .dataframe tbody tr th:only-of-type {\n",
       "        vertical-align: middle;\n",
       "    }\n",
       "\n",
       "    .dataframe tbody tr th {\n",
       "        vertical-align: top;\n",
       "    }\n",
       "\n",
       "    .dataframe thead th {\n",
       "        text-align: right;\n",
       "    }\n",
       "</style>\n",
       "<table border=\"1\" class=\"dataframe\">\n",
       "  <thead>\n",
       "    <tr style=\"text-align: right;\">\n",
       "      <th></th>\n",
       "      <th>imdb_id</th>\n",
       "      <th>popularity</th>\n",
       "      <th>budget</th>\n",
       "      <th>revenue</th>\n",
       "      <th>original_title</th>\n",
       "      <th>cast</th>\n",
       "      <th>director</th>\n",
       "      <th>tagline</th>\n",
       "      <th>overview</th>\n",
       "      <th>runtime</th>\n",
       "      <th>genres</th>\n",
       "      <th>production_companies</th>\n",
       "      <th>release_date</th>\n",
       "      <th>vote_count</th>\n",
       "      <th>vote_average</th>\n",
       "      <th>release_year</th>\n",
       "    </tr>\n",
       "  </thead>\n",
       "  <tbody>\n",
       "    <tr>\n",
       "      <td>0</td>\n",
       "      <td>tt0369610</td>\n",
       "      <td>32.985763</td>\n",
       "      <td>150000000</td>\n",
       "      <td>1513528810</td>\n",
       "      <td>Jurassic World</td>\n",
       "      <td>Chris Pratt|Bryce Dallas Howard|Irrfan Khan|Vi...</td>\n",
       "      <td>Colin Trevorrow</td>\n",
       "      <td>The park is open.</td>\n",
       "      <td>Twenty-two years after the events of Jurassic ...</td>\n",
       "      <td>124</td>\n",
       "      <td>Action|Adventure|Science Fiction|Thriller</td>\n",
       "      <td>Universal Studios|Amblin Entertainment|Legenda...</td>\n",
       "      <td>6/9/2015</td>\n",
       "      <td>5562</td>\n",
       "      <td>6.5</td>\n",
       "      <td>2015</td>\n",
       "    </tr>\n",
       "    <tr>\n",
       "      <td>1</td>\n",
       "      <td>tt1392190</td>\n",
       "      <td>28.419936</td>\n",
       "      <td>150000000</td>\n",
       "      <td>378436354</td>\n",
       "      <td>Mad Max: Fury Road</td>\n",
       "      <td>Tom Hardy|Charlize Theron|Hugh Keays-Byrne|Nic...</td>\n",
       "      <td>George Miller</td>\n",
       "      <td>What a Lovely Day.</td>\n",
       "      <td>An apocalyptic story set in the furthest reach...</td>\n",
       "      <td>120</td>\n",
       "      <td>Action|Adventure|Science Fiction|Thriller</td>\n",
       "      <td>Village Roadshow Pictures|Kennedy Miller Produ...</td>\n",
       "      <td>5/13/2015</td>\n",
       "      <td>6185</td>\n",
       "      <td>7.1</td>\n",
       "      <td>2015</td>\n",
       "    </tr>\n",
       "    <tr>\n",
       "      <td>2</td>\n",
       "      <td>tt2908446</td>\n",
       "      <td>13.112507</td>\n",
       "      <td>110000000</td>\n",
       "      <td>295238201</td>\n",
       "      <td>Insurgent</td>\n",
       "      <td>Shailene Woodley|Theo James|Kate Winslet|Ansel...</td>\n",
       "      <td>Robert Schwentke</td>\n",
       "      <td>One Choice Can Destroy You</td>\n",
       "      <td>Beatrice Prior must confront her inner demons ...</td>\n",
       "      <td>119</td>\n",
       "      <td>Adventure|Science Fiction|Thriller</td>\n",
       "      <td>Summit Entertainment|Mandeville Films|Red Wago...</td>\n",
       "      <td>3/18/2015</td>\n",
       "      <td>2480</td>\n",
       "      <td>6.3</td>\n",
       "      <td>2015</td>\n",
       "    </tr>\n",
       "    <tr>\n",
       "      <td>3</td>\n",
       "      <td>tt2488496</td>\n",
       "      <td>11.173104</td>\n",
       "      <td>200000000</td>\n",
       "      <td>2068178225</td>\n",
       "      <td>Star Wars: The Force Awakens</td>\n",
       "      <td>Harrison Ford|Mark Hamill|Carrie Fisher|Adam D...</td>\n",
       "      <td>J.J. Abrams</td>\n",
       "      <td>Every generation has a story.</td>\n",
       "      <td>Thirty years after defeating the Galactic Empi...</td>\n",
       "      <td>136</td>\n",
       "      <td>Action|Adventure|Science Fiction|Fantasy</td>\n",
       "      <td>Lucasfilm|Truenorth Productions|Bad Robot</td>\n",
       "      <td>12/15/2015</td>\n",
       "      <td>5292</td>\n",
       "      <td>7.5</td>\n",
       "      <td>2015</td>\n",
       "    </tr>\n",
       "    <tr>\n",
       "      <td>4</td>\n",
       "      <td>tt2820852</td>\n",
       "      <td>9.335014</td>\n",
       "      <td>190000000</td>\n",
       "      <td>1506249360</td>\n",
       "      <td>Furious 7</td>\n",
       "      <td>Vin Diesel|Paul Walker|Jason Statham|Michelle ...</td>\n",
       "      <td>James Wan</td>\n",
       "      <td>Vengeance Hits Home</td>\n",
       "      <td>Deckard Shaw seeks revenge against Dominic Tor...</td>\n",
       "      <td>137</td>\n",
       "      <td>Action|Crime|Thriller</td>\n",
       "      <td>Universal Pictures|Original Film|Media Rights ...</td>\n",
       "      <td>4/1/2015</td>\n",
       "      <td>2947</td>\n",
       "      <td>7.3</td>\n",
       "      <td>2015</td>\n",
       "    </tr>\n",
       "  </tbody>\n",
       "</table>\n",
       "</div>"
      ],
      "text/plain": [
       "     imdb_id  popularity     budget     revenue                original_title  \\\n",
       "0  tt0369610   32.985763  150000000  1513528810                Jurassic World   \n",
       "1  tt1392190   28.419936  150000000   378436354            Mad Max: Fury Road   \n",
       "2  tt2908446   13.112507  110000000   295238201                     Insurgent   \n",
       "3  tt2488496   11.173104  200000000  2068178225  Star Wars: The Force Awakens   \n",
       "4  tt2820852    9.335014  190000000  1506249360                     Furious 7   \n",
       "\n",
       "                                                cast          director  \\\n",
       "0  Chris Pratt|Bryce Dallas Howard|Irrfan Khan|Vi...   Colin Trevorrow   \n",
       "1  Tom Hardy|Charlize Theron|Hugh Keays-Byrne|Nic...     George Miller   \n",
       "2  Shailene Woodley|Theo James|Kate Winslet|Ansel...  Robert Schwentke   \n",
       "3  Harrison Ford|Mark Hamill|Carrie Fisher|Adam D...       J.J. Abrams   \n",
       "4  Vin Diesel|Paul Walker|Jason Statham|Michelle ...         James Wan   \n",
       "\n",
       "                         tagline  \\\n",
       "0              The park is open.   \n",
       "1             What a Lovely Day.   \n",
       "2     One Choice Can Destroy You   \n",
       "3  Every generation has a story.   \n",
       "4            Vengeance Hits Home   \n",
       "\n",
       "                                            overview  runtime  \\\n",
       "0  Twenty-two years after the events of Jurassic ...      124   \n",
       "1  An apocalyptic story set in the furthest reach...      120   \n",
       "2  Beatrice Prior must confront her inner demons ...      119   \n",
       "3  Thirty years after defeating the Galactic Empi...      136   \n",
       "4  Deckard Shaw seeks revenge against Dominic Tor...      137   \n",
       "\n",
       "                                      genres  \\\n",
       "0  Action|Adventure|Science Fiction|Thriller   \n",
       "1  Action|Adventure|Science Fiction|Thriller   \n",
       "2         Adventure|Science Fiction|Thriller   \n",
       "3   Action|Adventure|Science Fiction|Fantasy   \n",
       "4                      Action|Crime|Thriller   \n",
       "\n",
       "                                production_companies release_date  vote_count  \\\n",
       "0  Universal Studios|Amblin Entertainment|Legenda...     6/9/2015        5562   \n",
       "1  Village Roadshow Pictures|Kennedy Miller Produ...    5/13/2015        6185   \n",
       "2  Summit Entertainment|Mandeville Films|Red Wago...    3/18/2015        2480   \n",
       "3          Lucasfilm|Truenorth Productions|Bad Robot   12/15/2015        5292   \n",
       "4  Universal Pictures|Original Film|Media Rights ...     4/1/2015        2947   \n",
       "\n",
       "   vote_average  release_year  \n",
       "0           6.5          2015  \n",
       "1           7.1          2015  \n",
       "2           6.3          2015  \n",
       "3           7.5          2015  \n",
       "4           7.3          2015  "
      ]
     },
     "execution_count": 457,
     "metadata": {},
     "output_type": "execute_result"
    }
   ],
   "source": [
    "data = pd.read_csv('/Users/kseniahabipova/Downloads/data.csv')\n",
    "data.head(5)"
   ]
  },
  {
   "cell_type": "code",
   "execution_count": 4,
   "metadata": {},
   "outputs": [
    {
     "data": {
      "text/plain": [
       "1890"
      ]
     },
     "execution_count": 4,
     "metadata": {},
     "output_type": "execute_result"
    }
   ],
   "source": [
    "len(data)"
   ]
  },
  {
   "cell_type": "markdown",
   "metadata": {},
   "source": [
    "# Предобработка датасета"
   ]
  },
  {
   "cell_type": "code",
   "execution_count": 383,
   "metadata": {},
   "outputs": [],
   "source": [
    "answer_ls = [4,2,3,2,1,5,2,1,4,5,3,1,3,4,5,1,3,3,2,1,4,2,3,1,5,1,4,2,5,2,5,5,3,1,5,4 ] # создадим список с ответами. сюда будем добавлять ответы по мере прохождения теста\n",
    "# сюда можем вписать создание новых колонок в датасете"
   ]
  },
  {
   "cell_type": "markdown",
   "metadata": {},
   "source": [
    "# 1. У какого фильма из списка самый большой бюджет?\n",
    "Варианты ответов:\n",
    "1. The Dark Knight Rises (tt1345836)\n",
    "2. Spider-Man 3 (tt0413300)\n",
    "3. Avengers: Age of Ultron (tt2395427)\n",
    "4. The Warrior's Way\t(tt1032751)\n",
    "5. Pirates of the Caribbean: On Stranger Tides (tt1298650)"
   ]
  },
  {
   "cell_type": "code",
   "execution_count": null,
   "metadata": {},
   "outputs": [],
   "source": [
    "# тут вводим ваш ответ и добавлем в его список ответов (сейчас для примера стоит \"1\")\n",
    "answer_ls.append(4)"
   ]
  },
  {
   "cell_type": "code",
   "execution_count": 22,
   "metadata": {},
   "outputs": [
    {
     "data": {
      "text/plain": [
       "491    The Warrior's Way\n",
       "Name: original_title, dtype: object"
      ]
     },
     "execution_count": 22,
     "metadata": {},
     "output_type": "execute_result"
    }
   ],
   "source": [
    "data = pd.read_csv('/Users/kseniahabipova/Downloads/data.csv')\n",
    "data[(data.budget == data.budget.max())]['original_title']"
   ]
  },
  {
   "cell_type": "markdown",
   "metadata": {},
   "source": [
    "# 2. Какой из фильмов самый длительный (в минутах)\n",
    "1. The Lord of the Rings: The Return of the King\t(tt0167260)\n",
    "2. Gods and Generals\t(tt0279111)\n",
    "3. King Kong\t(tt0360717)\n",
    "4. Pearl Harbor\t(tt0213149)\n",
    "5. Alexander\t(tt0346491)"
   ]
  },
  {
   "cell_type": "code",
   "execution_count": null,
   "metadata": {},
   "outputs": [],
   "source": [
    "answer_ls.append(2)"
   ]
  },
  {
   "cell_type": "code",
   "execution_count": 23,
   "metadata": {},
   "outputs": [
    {
     "data": {
      "text/plain": [
       "1158    Gods and Generals\n",
       "Name: original_title, dtype: object"
      ]
     },
     "execution_count": 23,
     "metadata": {},
     "output_type": "execute_result"
    }
   ],
   "source": [
    "data = pd.read_csv('/Users/kseniahabipova/Downloads/data.csv')\n",
    "data[(data.runtime == data.runtime.max())]['original_title']"
   ]
  },
  {
   "cell_type": "markdown",
   "metadata": {},
   "source": [
    "# 3. Какой из фильмов самый короткий (в минутах)\n",
    "Варианты ответов:\n",
    "\n",
    "1. Home on the Range\ttt0299172\n",
    "2. The Jungle Book 2\ttt0283426\n",
    "3. Winnie the Pooh\ttt1449283\n",
    "4. Corpse Bride\ttt0121164\n",
    "5. Hoodwinked!\ttt0443536"
   ]
  },
  {
   "cell_type": "code",
   "execution_count": null,
   "metadata": {},
   "outputs": [],
   "source": [
    "answer_ls.append(3)"
   ]
  },
  {
   "cell_type": "code",
   "execution_count": 24,
   "metadata": {},
   "outputs": [
    {
     "data": {
      "text/plain": [
       "769    Winnie the Pooh\n",
       "Name: original_title, dtype: object"
      ]
     },
     "execution_count": 24,
     "metadata": {},
     "output_type": "execute_result"
    }
   ],
   "source": [
    "data = pd.read_csv('/Users/kseniahabipova/Downloads/data.csv')\n",
    "data[(data.runtime == data.runtime.min())]['original_title']"
   ]
  },
  {
   "cell_type": "markdown",
   "metadata": {},
   "source": [
    "# 4. Средняя длительность фильма?\n",
    "\n",
    "Варианты ответов:\n",
    "1. 115\n",
    "2. 110\n",
    "3. 105\n",
    "4. 120\n",
    "5. 100\n"
   ]
  },
  {
   "cell_type": "code",
   "execution_count": null,
   "metadata": {},
   "outputs": [],
   "source": [
    "answer_ls.append(2)"
   ]
  },
  {
   "cell_type": "code",
   "execution_count": 27,
   "metadata": {},
   "outputs": [
    {
     "data": {
      "text/plain": [
       "110"
      ]
     },
     "execution_count": 27,
     "metadata": {},
     "output_type": "execute_result"
    }
   ],
   "source": [
    "data = pd.read_csv('/Users/kseniahabipova/Downloads/data.csv')\n",
    "round(data.runtime.mean())"
   ]
  },
  {
   "cell_type": "markdown",
   "metadata": {},
   "source": [
    "# 5. Средняя длительность фильма по медиане?\n",
    "Варианты ответов:\n",
    "1. 106\n",
    "2. 112\n",
    "3. 101\n",
    "4. 120\n",
    "5. 115\n",
    "\n",
    "\n"
   ]
  },
  {
   "cell_type": "code",
   "execution_count": null,
   "metadata": {},
   "outputs": [],
   "source": [
    "answer_ls.append(1)"
   ]
  },
  {
   "cell_type": "code",
   "execution_count": 28,
   "metadata": {},
   "outputs": [
    {
     "data": {
      "text/plain": [
       "106"
      ]
     },
     "execution_count": 28,
     "metadata": {},
     "output_type": "execute_result"
    }
   ],
   "source": [
    "data = pd.read_csv('/Users/kseniahabipova/Downloads/data.csv')\n",
    "round(data.runtime.median())"
   ]
  },
  {
   "cell_type": "markdown",
   "metadata": {},
   "source": [
    "# 6. Какой самый прибыльный фильм?\n",
    "Варианты ответов:\n",
    "1. The Avengers\ttt0848228\n",
    "2. Minions\ttt2293640\n",
    "3. Star Wars: The Force Awakens\ttt2488496\n",
    "4. Furious 7\ttt2820852\n",
    "5. Avatar\ttt0499549"
   ]
  },
  {
   "cell_type": "code",
   "execution_count": null,
   "metadata": {},
   "outputs": [],
   "source": [
    "answer_ls.append(5)"
   ]
  },
  {
   "cell_type": "code",
   "execution_count": 31,
   "metadata": {},
   "outputs": [
    {
     "data": {
      "text/plain": [
       "239    Avatar\n",
       "Name: original_title, dtype: object"
      ]
     },
     "execution_count": 31,
     "metadata": {},
     "output_type": "execute_result"
    }
   ],
   "source": [
    "data = pd.read_csv('/Users/kseniahabipova/Downloads/data.csv')\n",
    "data['profit'] = data['revenue'] - data['budget']\n",
    "data[(data.profit == data.profit.max())]['original_title']"
   ]
  },
  {
   "cell_type": "markdown",
   "metadata": {},
   "source": [
    "# 7. Какой фильм самый убыточный?\n",
    "Варианты ответов:\n",
    "1. Supernova tt0134983\n",
    "2. The Warrior's Way tt1032751\n",
    "3. Flushed Away\ttt0424095\n",
    "4. The Adventures of Pluto Nash\ttt0180052\n",
    "5. The Lone Ranger\ttt1210819"
   ]
  },
  {
   "cell_type": "code",
   "execution_count": null,
   "metadata": {},
   "outputs": [],
   "source": [
    "answer_ls.append(2)"
   ]
  },
  {
   "cell_type": "code",
   "execution_count": 32,
   "metadata": {},
   "outputs": [
    {
     "data": {
      "text/plain": [
       "491    The Warrior's Way\n",
       "Name: original_title, dtype: object"
      ]
     },
     "execution_count": 32,
     "metadata": {},
     "output_type": "execute_result"
    }
   ],
   "source": [
    "data = pd.read_csv('/Users/kseniahabipova/Downloads/data.csv')\n",
    "data['profit'] = data['revenue'] - data['budget']\n",
    "data[(data.profit == data.profit.min())]['original_title']"
   ]
  },
  {
   "cell_type": "markdown",
   "metadata": {},
   "source": [
    "# 8. Сколько всего фильмов в прибыли?\n",
    "Варианты ответов:\n",
    "1. 1478\n",
    "2. 1520\n",
    "3. 1241\n",
    "4. 1135\n",
    "5. 1398\n"
   ]
  },
  {
   "cell_type": "code",
   "execution_count": null,
   "metadata": {},
   "outputs": [],
   "source": [
    "answer_ls.append(1)"
   ]
  },
  {
   "cell_type": "code",
   "execution_count": 33,
   "metadata": {},
   "outputs": [
    {
     "data": {
      "text/plain": [
       "1478"
      ]
     },
     "execution_count": 33,
     "metadata": {},
     "output_type": "execute_result"
    }
   ],
   "source": [
    "data = pd.read_csv('/Users/kseniahabipova/Downloads/data.csv')\n",
    "data['profit'] = data['revenue'] - data['budget']\n",
    "data[(data.profit > 0)]['original_title'].count()"
   ]
  },
  {
   "cell_type": "markdown",
   "metadata": {},
   "source": [
    "# 9. Самый прибыльный фильм в 2008 году?\n",
    "Варианты ответов:\n",
    "1. Madagascar: Escape 2 Africa\ttt0479952\n",
    "2. Iron Man\ttt0371746\n",
    "3. Kung Fu Panda\ttt0441773\n",
    "4. The Dark Knight\ttt0468569\n",
    "5. Mamma Mia!\ttt0795421"
   ]
  },
  {
   "cell_type": "code",
   "execution_count": null,
   "metadata": {},
   "outputs": [],
   "source": [
    "answer_ls.append(4)"
   ]
  },
  {
   "cell_type": "code",
   "execution_count": 67,
   "metadata": {},
   "outputs": [
    {
     "data": {
      "text/plain": [
       "600    The Dark Knight\n",
       "Name: original_title, dtype: object"
      ]
     },
     "execution_count": 67,
     "metadata": {},
     "output_type": "execute_result"
    }
   ],
   "source": [
    "data = pd.read_csv('/Users/kseniahabipova/Downloads/data.csv')\n",
    "data['profit'] = data['revenue'] - data['budget']\n",
    "new_data = data[(data.release_year == 2008)]\n",
    "new_data[(new_data.profit == new_data.profit.max())]['original_title']"
   ]
  },
  {
   "cell_type": "markdown",
   "metadata": {},
   "source": [
    "# 10. Самый убыточный фильм за период с 2012 по 2014 (включительно)?\n",
    "Варианты ответов:\n",
    "1. Winter's Tale\ttt1837709\n",
    "2. Stolen\ttt1656186\n",
    "3. Broken City\ttt1235522\n",
    "4. Upside Down\ttt1374992\n",
    "5. The Lone Ranger\ttt1210819\n"
   ]
  },
  {
   "cell_type": "code",
   "execution_count": null,
   "metadata": {},
   "outputs": [],
   "source": [
    "answer_ls.append(5)"
   ]
  },
  {
   "cell_type": "code",
   "execution_count": 68,
   "metadata": {},
   "outputs": [
    {
     "data": {
      "text/plain": [
       "1246    The Lone Ranger\n",
       "Name: original_title, dtype: object"
      ]
     },
     "execution_count": 68,
     "metadata": {},
     "output_type": "execute_result"
    }
   ],
   "source": [
    "data = pd.read_csv('/Users/kseniahabipova/Downloads/data.csv')\n",
    "data['profit'] = data['revenue'] - data['budget']\n",
    "new_data = data[(data.release_year >= 2012)&(data.release_year <= 2014)]\n",
    "new_data[(new_data.profit == new_data.profit.min())]['original_title']"
   ]
  },
  {
   "cell_type": "markdown",
   "metadata": {},
   "source": [
    "# 11. Какого жанра фильмов больше всего?\n",
    "Варианты ответов:\n",
    "1. Action\n",
    "2. Adventure\n",
    "3. Drama\n",
    "4. Comedy\n",
    "5. Thriller"
   ]
  },
  {
   "cell_type": "code",
   "execution_count": null,
   "metadata": {},
   "outputs": [],
   "source": [
    "answer_ls.append(3)"
   ]
  },
  {
   "cell_type": "code",
   "execution_count": 153,
   "metadata": {},
   "outputs": [
    {
     "data": {
      "text/plain": [
       "genres\n",
       "Drama    782\n",
       "Name: original_title, dtype: int64"
      ]
     },
     "execution_count": 153,
     "metadata": {},
     "output_type": "execute_result"
    }
   ],
   "source": [
    "data = pd.read_csv('/Users/kseniahabipova/Downloads/data.csv')\n",
    "\n",
    "data['profit'] = data['revenue'] - data['budget']\n",
    "\n",
    "def replace(x):\n",
    "    i, j = map(int, x.groups())\n",
    "    return ','.join(map(str, range(i, j + 1)))\n",
    "\n",
    "c = data.columns\n",
    "v = data.genres.str.replace('(\\d+)-(\\d+)', replace).str.split('|')\n",
    "\n",
    "data = pd.DataFrame(\n",
    "       data.drop('genres', 1).values.repeat(v.str.len(), axis=0))\n",
    "\n",
    "data.insert(c.get_loc('genres'), len(c) - 1, np.concatenate(v))\n",
    "data.columns = c\n",
    "\n",
    "new_data = data.groupby(['genres']).count()\n",
    "new_data[(new_data.original_title == new_data.original_title.max())]['original_title']"
   ]
  },
  {
   "cell_type": "markdown",
   "metadata": {},
   "source": [
    "# 12. Какого жанра среди прибыльных фильмов больше всего?\n",
    "Варианты ответов:\n",
    "1. Drama\n",
    "2. Comedy\n",
    "3. Action\n",
    "4. Thriller\n",
    "5. Adventure"
   ]
  },
  {
   "cell_type": "code",
   "execution_count": null,
   "metadata": {},
   "outputs": [],
   "source": [
    "answer_ls.append(1)"
   ]
  },
  {
   "cell_type": "code",
   "execution_count": 152,
   "metadata": {},
   "outputs": [
    {
     "data": {
      "text/plain": [
       "genres\n",
       "Drama    560\n",
       "Name: original_title, dtype: int64"
      ]
     },
     "execution_count": 152,
     "metadata": {},
     "output_type": "execute_result"
    }
   ],
   "source": [
    "data = pd.read_csv('/Users/kseniahabipova/Downloads/data.csv')\n",
    "\n",
    "data['profit'] = data['revenue'] - data['budget']\n",
    "\n",
    "def replace(x):\n",
    "    i, j = map(int, x.groups())\n",
    "    return ','.join(map(str, range(i, j + 1)))\n",
    "\n",
    "c = data.columns\n",
    "v = data.genres.str.replace('(\\d+)-(\\d+)', replace).str.split('|')\n",
    "\n",
    "data = pd.DataFrame(\n",
    "       data.drop('genres', 1).values.repeat(v.str.len(), axis=0))\n",
    "\n",
    "data.insert(c.get_loc('genres'), len(c) - 1, np.concatenate(v))\n",
    "data.columns = c\n",
    "\n",
    "new_data = data[(data.profit > 0)].groupby(['genres']).count()\n",
    "new_data[(new_data.profit == new_data.profit.max())]['original_title']"
   ]
  },
  {
   "cell_type": "markdown",
   "metadata": {},
   "source": [
    "# 13. Кто из режиссеров снял больше всего фильмов?\n",
    "Варианты ответов:\n",
    "1. Steven Spielberg\n",
    "2. Ridley Scott \n",
    "3. Steven Soderbergh\n",
    "4. Christopher Nolan\n",
    "5. Clint Eastwood"
   ]
  },
  {
   "cell_type": "code",
   "execution_count": null,
   "metadata": {},
   "outputs": [],
   "source": [
    "answer_ls.append(3)"
   ]
  },
  {
   "cell_type": "code",
   "execution_count": 129,
   "metadata": {},
   "outputs": [
    {
     "data": {
      "text/plain": [
       "director\n",
       "Steven Soderbergh    13\n",
       "Name: original_title, dtype: int64"
      ]
     },
     "execution_count": 129,
     "metadata": {},
     "output_type": "execute_result"
    }
   ],
   "source": [
    "data = pd.read_csv('/Users/kseniahabipova/Downloads/data.csv')\n",
    "\n",
    "new_data = data.groupby(['director']).count()\n",
    "new_data[(new_data.original_title == new_data.original_title.max())]['original_title']"
   ]
  },
  {
   "cell_type": "markdown",
   "metadata": {},
   "source": [
    "# 14. Кто из режиссеров снял больше всего Прибыльных фильмов?\n",
    "Варианты ответов:\n",
    "1. Steven Soderbergh\n",
    "2. Clint Eastwood\n",
    "3. Steven Spielberg\n",
    "4. Ridley Scott\n",
    "5. Christopher Nolan"
   ]
  },
  {
   "cell_type": "code",
   "execution_count": null,
   "metadata": {},
   "outputs": [],
   "source": [
    "answer_ls.append(4)"
   ]
  },
  {
   "cell_type": "code",
   "execution_count": 131,
   "metadata": {},
   "outputs": [
    {
     "data": {
      "text/plain": [
       "director\n",
       "Ridley Scott    12\n",
       "Name: original_title, dtype: int64"
      ]
     },
     "execution_count": 131,
     "metadata": {},
     "output_type": "execute_result"
    }
   ],
   "source": [
    "data = pd.read_csv('/Users/kseniahabipova/Downloads/data.csv')\n",
    "data['profit'] = data['revenue'] - data['budget']\n",
    "\n",
    "new_data = data[(data.profit > 0)].groupby(['director']).count()\n",
    "new_data[(new_data.profit == new_data.profit.max())]['original_title']"
   ]
  },
  {
   "cell_type": "markdown",
   "metadata": {},
   "source": [
    "# 15. Кто из режиссеров принес больше всего прибыли?\n",
    "Варианты ответов:\n",
    "1. Steven Spielberg\n",
    "2. Christopher Nolan\n",
    "3. David Yates\n",
    "4. James Cameron\n",
    "5. Peter Jackson\n"
   ]
  },
  {
   "cell_type": "code",
   "execution_count": null,
   "metadata": {},
   "outputs": [],
   "source": [
    "answer_ls.append(5)"
   ]
  },
  {
   "cell_type": "code",
   "execution_count": 134,
   "metadata": {},
   "outputs": [
    {
     "data": {
      "text/plain": [
       "director\n",
       "Peter Jackson    5202593685\n",
       "Name: profit, dtype: int64"
      ]
     },
     "execution_count": 134,
     "metadata": {},
     "output_type": "execute_result"
    }
   ],
   "source": [
    "data = pd.read_csv('/Users/kseniahabipova/Downloads/data.csv')\n",
    "data['profit'] = data['revenue'] - data['budget']\n",
    "\n",
    "new_data = data.groupby(['director']).sum()\n",
    "new_data[(new_data.profit == new_data.profit.max())]['profit']"
   ]
  },
  {
   "cell_type": "markdown",
   "metadata": {},
   "source": [
    "# 16. Какой актер принес больше всего прибыли?\n",
    "Варианты ответов:\n",
    "1. Emma Watson\n",
    "2. Johnny Depp\n",
    "3. Michelle Rodriguez\n",
    "4. Orlando Bloom\n",
    "5. Rupert Grint"
   ]
  },
  {
   "cell_type": "code",
   "execution_count": null,
   "metadata": {},
   "outputs": [],
   "source": [
    "answer_ls.append(1)"
   ]
  },
  {
   "cell_type": "code",
   "execution_count": 151,
   "metadata": {},
   "outputs": [
    {
     "data": {
      "text/plain": [
       "cast\n",
       "Emma Watson    6666245597\n",
       "Name: profit, dtype: int64"
      ]
     },
     "execution_count": 151,
     "metadata": {},
     "output_type": "execute_result"
    }
   ],
   "source": [
    "data = pd.read_csv('/Users/kseniahabipova/Downloads/data.csv')\n",
    "data['profit'] = data['revenue'] - data['budget']\n",
    "\n",
    "def replace(x):\n",
    "    i, j = map(int, x.groups())\n",
    "    return ','.join(map(str, range(i, j + 1)))\n",
    "\n",
    "c = data.columns\n",
    "v = data.cast.str.replace('(\\d+)-(\\d+)', replace).str.split('|')\n",
    "\n",
    "data = pd.DataFrame(\n",
    "       data.drop('cast', 1).values.repeat(v.str.len(), axis=0))\n",
    "\n",
    "data.insert(c.get_loc('cast'), len(c) - 1, np.concatenate(v))\n",
    "data.columns = c\n",
    "\n",
    "new_data = data.groupby(['cast']).sum()\n",
    "new_data[(new_data.profit == new_data.profit.max())]['profit']"
   ]
  },
  {
   "cell_type": "markdown",
   "metadata": {},
   "source": [
    "# 17. Какой актер принес меньше всего прибыли в 2012 году?\n",
    "Варианты ответов:\n",
    "1. Nicolas Cage\n",
    "2. Danny Huston\n",
    "3. Kirsten Dunst\n",
    "4. Jim Sturgess\n",
    "5. Sami Gayle"
   ]
  },
  {
   "cell_type": "code",
   "execution_count": null,
   "metadata": {},
   "outputs": [],
   "source": [
    "answer_ls.append(3)"
   ]
  },
  {
   "cell_type": "code",
   "execution_count": 150,
   "metadata": {},
   "outputs": [
    {
     "data": {
      "text/plain": [
       "cast\n",
       "Kirsten Dunst   -68109207\n",
       "Name: profit, dtype: int64"
      ]
     },
     "execution_count": 150,
     "metadata": {},
     "output_type": "execute_result"
    }
   ],
   "source": [
    "data = pd.read_csv('/Users/kseniahabipova/Downloads/data.csv')\n",
    "data['profit'] = data['revenue'] - data['budget']\n",
    "\n",
    "def replace(x):\n",
    "    i, j = map(int, x.groups())\n",
    "    return ','.join(map(str, range(i, j + 1)))\n",
    "\n",
    "c = data.columns\n",
    "v = data.cast.str.replace('(\\d+)-(\\d+)', replace).str.split('|')\n",
    "\n",
    "data = pd.DataFrame(\n",
    "       data.drop('cast', 1).values.repeat(v.str.len(), axis=0))\n",
    "\n",
    "data.insert(c.get_loc('cast'), len(c) - 1, np.concatenate(v))\n",
    "data.columns = c\n",
    "\n",
    "new_data = data[(data.release_year == 2012)].groupby(['cast']).sum()\n",
    "new_data[(new_data.profit == new_data.profit.min())]['profit']"
   ]
  },
  {
   "cell_type": "markdown",
   "metadata": {},
   "source": [
    "# 18. Какой актер снялся в большем количестве высокобюджетных фильмов? (в фильмах где бюджет выше среднего по данной выборке)\n",
    "Варианты ответов:\n",
    "1. Tom Cruise\n",
    "2. Mark Wahlberg \n",
    "3. Matt Damon\n",
    "4. Angelina Jolie\n",
    "5. Adam Sandler"
   ]
  },
  {
   "cell_type": "code",
   "execution_count": null,
   "metadata": {},
   "outputs": [],
   "source": [
    "answer_ls.append(3)"
   ]
  },
  {
   "cell_type": "code",
   "execution_count": 149,
   "metadata": {},
   "outputs": [
    {
     "data": {
      "text/plain": [
       "cast\n",
       "Matt Damon    18\n",
       "Name: original_title, dtype: int64"
      ]
     },
     "execution_count": 149,
     "metadata": {},
     "output_type": "execute_result"
    }
   ],
   "source": [
    "data = pd.read_csv('/Users/kseniahabipova/Downloads/data.csv')\n",
    "data['profit'] = data['revenue'] - data['budget']\n",
    "\n",
    "def replace(x):\n",
    "    i, j = map(int, x.groups())\n",
    "    return ','.join(map(str, range(i, j + 1)))\n",
    "\n",
    "c = data.columns\n",
    "v = data.cast.str.replace('(\\d+)-(\\d+)', replace).str.split('|')\n",
    "\n",
    "data = pd.DataFrame(\n",
    "       data.drop('cast', 1).values.repeat(v.str.len(), axis=0))\n",
    "\n",
    "data.insert(c.get_loc('cast'), len(c) - 1, np.concatenate(v))\n",
    "data.columns = c\n",
    "\n",
    "new_data = data[(data.budget > data.budget.mean())].groupby(['cast']).count()\n",
    "new_data[(new_data.original_title == new_data.original_title.max())]['original_title']"
   ]
  },
  {
   "cell_type": "markdown",
   "metadata": {},
   "source": [
    "# 19. В фильмах какого жанра больше всего снимался Nicolas Cage?  \n",
    "Варианты ответа:\n",
    "1. Drama\n",
    "2. Action\n",
    "3. Thriller\n",
    "4. Adventure\n",
    "5. Crime"
   ]
  },
  {
   "cell_type": "code",
   "execution_count": null,
   "metadata": {},
   "outputs": [],
   "source": [
    "answer_ls.append(2)"
   ]
  },
  {
   "cell_type": "code",
   "execution_count": 166,
   "metadata": {},
   "outputs": [
    {
     "data": {
      "text/plain": [
       "genres\n",
       "Action    17\n",
       "Name: original_title, dtype: int64"
      ]
     },
     "execution_count": 166,
     "metadata": {},
     "output_type": "execute_result"
    }
   ],
   "source": [
    "data = pd.read_csv('/Users/kseniahabipova/Downloads/data.csv')\n",
    "\n",
    "def replace(x):\n",
    "    i, j = map(int, x.groups())\n",
    "    return ','.join(map(str, range(i, j + 1)))\n",
    "\n",
    "c = data.columns\n",
    "v = data.cast.str.replace('(\\d+)-(\\d+)', replace).str.split('|')\n",
    "\n",
    "data = pd.DataFrame(data.drop('cast', 1).values.repeat(v.str.len(), axis=0))\n",
    "\n",
    "data.insert(c.get_loc('cast'), len(c) - 1, np.concatenate(v))\n",
    "data.columns = c\n",
    "\n",
    "\n",
    "d = data.columns\n",
    "e = data.genres.str.replace('(\\d+)-(\\d+)', replace).str.split('|')\n",
    "\n",
    "data = pd.DataFrame(data.drop('genres', 1).values.repeat(e.str.len(), axis=0))\n",
    "\n",
    "data.insert(d.get_loc('genres'), len(d) - 1, np.concatenate(e))\n",
    "data.columns = d\n",
    "\n",
    "new_data = data[(data.cast == 'Nicolas Cage')].groupby(['genres']).count()\n",
    "new_data[(new_data.original_title == new_data.original_title.max())]['original_title']"
   ]
  },
  {
   "cell_type": "markdown",
   "metadata": {},
   "source": [
    "# 20. Какая студия сняла больше всего фильмов?\n",
    "Варианты ответа:\n",
    "1. Universal Pictures (Universal)\n",
    "2. Paramount Pictures\n",
    "3. Columbia Pictures\n",
    "4. Warner Bros\n",
    "5. Twentieth Century Fox Film Corporation"
   ]
  },
  {
   "cell_type": "code",
   "execution_count": null,
   "metadata": {},
   "outputs": [],
   "source": [
    "answer_ls.append(1)"
   ]
  },
  {
   "cell_type": "code",
   "execution_count": 171,
   "metadata": {},
   "outputs": [
    {
     "data": {
      "text/plain": [
       "production_companies\n",
       "Universal Pictures    173\n",
       "Name: original_title, dtype: int64"
      ]
     },
     "execution_count": 171,
     "metadata": {},
     "output_type": "execute_result"
    }
   ],
   "source": [
    "data = pd.read_csv('/Users/kseniahabipova/Downloads/data.csv')\n",
    "\n",
    "def replace(x):\n",
    "    i, j = map(int, x.groups())\n",
    "    return ','.join(map(str, range(i, j + 1)))\n",
    "\n",
    "c = data.columns\n",
    "v = data.production_companies.str.replace('(\\d+)-(\\d+)', replace).str.split('|')\n",
    "\n",
    "data = pd.DataFrame(data.drop('production_companies', 1).values.repeat(v.str.len(), axis=0))\n",
    "\n",
    "data.insert(c.get_loc('production_companies'), len(c) - 1, np.concatenate(v))\n",
    "data.columns = c\n",
    "\n",
    "new_data= data.groupby(['production_companies']).count()\n",
    "\n",
    "new_data[(new_data.original_title == new_data.original_title.max())]['original_title']"
   ]
  },
  {
   "cell_type": "markdown",
   "metadata": {},
   "source": [
    "# 21. Какая студия сняла больше всего фильмов в 2015 году?\n",
    "Варианты ответа:\n",
    "1. Universal Pictures\n",
    "2. Paramount Pictures\n",
    "3. Columbia Pictures\n",
    "4. Warner Bros\n",
    "5. Twentieth Century Fox Film Corporation"
   ]
  },
  {
   "cell_type": "code",
   "execution_count": null,
   "metadata": {},
   "outputs": [],
   "source": [
    "answer_ls.append(4)"
   ]
  },
  {
   "cell_type": "code",
   "execution_count": 174,
   "metadata": {},
   "outputs": [
    {
     "data": {
      "text/plain": [
       "production_companies\n",
       "Warner Bros.    12\n",
       "Name: original_title, dtype: int64"
      ]
     },
     "execution_count": 174,
     "metadata": {},
     "output_type": "execute_result"
    }
   ],
   "source": [
    "data = pd.read_csv('/Users/kseniahabipova/Downloads/data.csv')\n",
    "\n",
    "def replace(x):\n",
    "    i, j = map(int, x.groups())\n",
    "    return ','.join(map(str, range(i, j + 1)))\n",
    "\n",
    "c = data.columns\n",
    "v = data.production_companies.str.replace('(\\d+)-(\\d+)', replace).str.split('|')\n",
    "\n",
    "data = pd.DataFrame(data.drop('production_companies', 1).values.repeat(v.str.len(), axis=0))\n",
    "\n",
    "data.insert(c.get_loc('production_companies'), len(c) - 1, np.concatenate(v))\n",
    "data.columns = c\n",
    "\n",
    "new_data= data[(data.release_year == 2015)].groupby(['production_companies']).count()\n",
    "\n",
    "new_data[(new_data.original_title == new_data.original_title.max())]['original_title']"
   ]
  },
  {
   "cell_type": "markdown",
   "metadata": {},
   "source": [
    "# 22. Какая студия заработала больше всего денег в жанре комедий за все время?\n",
    "Варианты ответа:\n",
    "1. Warner Bros\n",
    "2. Universal Pictures (Universal)\n",
    "3. Columbia Pictures\n",
    "4. Paramount Pictures\n",
    "5. Walt Disney"
   ]
  },
  {
   "cell_type": "code",
   "execution_count": null,
   "metadata": {},
   "outputs": [],
   "source": [
    "answer_ls.append(2)"
   ]
  },
  {
   "cell_type": "code",
   "execution_count": 178,
   "metadata": {},
   "outputs": [
    {
     "data": {
      "text/plain": [
       "production_companies\n",
       "Universal Pictures    8961545581\n",
       "Name: profit, dtype: int64"
      ]
     },
     "execution_count": 178,
     "metadata": {},
     "output_type": "execute_result"
    }
   ],
   "source": [
    "data = pd.read_csv('/Users/kseniahabipova/Downloads/data.csv')\n",
    "data['profit'] = data['revenue'] - data['budget']\n",
    "\n",
    "def replace(x):\n",
    "    i, j = map(int, x.groups())\n",
    "    return ','.join(map(str, range(i, j + 1)))\n",
    "\n",
    "c = data.columns\n",
    "v = data.production_companies.str.replace('(\\d+)-(\\d+)', replace).str.split('|')\n",
    "\n",
    "data = pd.DataFrame(data.drop('production_companies', 1).values.repeat(v.str.len(), axis=0))\n",
    "\n",
    "data.insert(c.get_loc('production_companies'), len(c) - 1, np.concatenate(v))\n",
    "data.columns = c\n",
    "\n",
    "\n",
    "d = data.columns\n",
    "e = data.genres.str.replace('(\\d+)-(\\d+)', replace).str.split('|')\n",
    "\n",
    "data = pd.DataFrame(data.drop('genres', 1).values.repeat(e.str.len(), axis=0))\n",
    "\n",
    "data.insert(d.get_loc('genres'), len(d) - 1, np.concatenate(e))\n",
    "data.columns = d\n",
    "\n",
    "new_data = data[(data.genres == 'Comedy')].groupby(['production_companies']).sum()\n",
    "new_data[(new_data.profit == new_data.profit.max())]['profit']"
   ]
  },
  {
   "cell_type": "markdown",
   "metadata": {},
   "source": [
    "# 23. Какая студия заработала больше всего денег в 2012 году?\n",
    "Варианты ответа:\n",
    "1. Universal Pictures (Universal)\n",
    "2. Warner Bros\n",
    "3. Columbia Pictures\n",
    "4. Paramount Pictures\n",
    "5. Lucasfilm"
   ]
  },
  {
   "cell_type": "code",
   "execution_count": null,
   "metadata": {},
   "outputs": [],
   "source": [
    "answer_ls.append(3)"
   ]
  },
  {
   "cell_type": "code",
   "execution_count": 179,
   "metadata": {},
   "outputs": [
    {
     "data": {
      "text/plain": [
       "production_companies\n",
       "Columbia Pictures    2501406608\n",
       "Name: profit, dtype: int64"
      ]
     },
     "execution_count": 179,
     "metadata": {},
     "output_type": "execute_result"
    }
   ],
   "source": [
    "data = pd.read_csv('/Users/kseniahabipova/Downloads/data.csv')\n",
    "data['profit'] = data['revenue'] - data['budget']\n",
    "\n",
    "def replace(x):\n",
    "    i, j = map(int, x.groups())\n",
    "    return ','.join(map(str, range(i, j + 1)))\n",
    "\n",
    "c = data.columns\n",
    "v = data.production_companies.str.replace('(\\d+)-(\\d+)', replace).str.split('|')\n",
    "\n",
    "data = pd.DataFrame(data.drop('production_companies', 1).values.repeat(v.str.len(), axis=0))\n",
    "\n",
    "data.insert(c.get_loc('production_companies'), len(c) - 1, np.concatenate(v))\n",
    "data.columns = c\n",
    "\n",
    "new_data= data[(data.release_year == 2012)].groupby(['production_companies']).sum()\n",
    "\n",
    "new_data[(new_data.profit == new_data.profit.max())]['profit']"
   ]
  },
  {
   "cell_type": "markdown",
   "metadata": {},
   "source": [
    "# 24. Самый убыточный фильм от Paramount Pictures\n",
    "Варианты ответа:\n",
    "\n",
    "1. K-19: The Widowmaker tt0267626\n",
    "2. Next tt0435705\n",
    "3. Twisted tt0315297\n",
    "4. The Love Guru tt0811138\n",
    "5. The Fighter tt0964517"
   ]
  },
  {
   "cell_type": "code",
   "execution_count": null,
   "metadata": {},
   "outputs": [],
   "source": [
    "answer_ls.append(1)"
   ]
  },
  {
   "cell_type": "code",
   "execution_count": 192,
   "metadata": {},
   "outputs": [
    {
     "data": {
      "text/plain": [
       "original_title\n",
       "K-19: The Widowmaker   -64831034\n",
       "Name: profit, dtype: int64"
      ]
     },
     "execution_count": 192,
     "metadata": {},
     "output_type": "execute_result"
    }
   ],
   "source": [
    "data = pd.read_csv('/Users/kseniahabipova/Downloads/data.csv')\n",
    "data['profit'] = data['revenue'] - data['budget']\n",
    "\n",
    "def replace(x):\n",
    "    i, j = map(int, x.groups())\n",
    "    return ','.join(map(str, range(i, j + 1)))\n",
    "\n",
    "c = data.columns\n",
    "v = data.production_companies.str.replace('(\\d+)-(\\d+)', replace).str.split('|')\n",
    "\n",
    "data = pd.DataFrame(data.drop('production_companies', 1).values.repeat(v.str.len(), axis=0))\n",
    "\n",
    "data.insert(c.get_loc('production_companies'), len(c) - 1, np.concatenate(v))\n",
    "data.columns = c\n",
    "\n",
    "# new_data= data[(data.production_companies == 'Paramount Pictures')].groupby(['original_title']).sum()\n",
    "\n",
    "new_data= data[(data.production_companies.str.contains('Paramount'))].groupby(['original_title']).sum()\n",
    "\n",
    "new_data[(new_data.profit == new_data.profit.min())]['profit']"
   ]
  },
  {
   "cell_type": "markdown",
   "metadata": {},
   "source": [
    "# 25. Какой Самый прибыльный год (заработали больше всего)?\n",
    "Варианты ответа:\n",
    "1. 2014\n",
    "2. 2008\n",
    "3. 2012\n",
    "4. 2002\n",
    "5. 2015"
   ]
  },
  {
   "cell_type": "code",
   "execution_count": null,
   "metadata": {},
   "outputs": [],
   "source": [
    "answer_ls.append(5)"
   ]
  },
  {
   "cell_type": "code",
   "execution_count": 185,
   "metadata": {},
   "outputs": [
    {
     "data": {
      "text/plain": [
       "release_year\n",
       "2015    18668572378\n",
       "Name: profit, dtype: int64"
      ]
     },
     "execution_count": 185,
     "metadata": {},
     "output_type": "execute_result"
    }
   ],
   "source": [
    "data = pd.read_csv('/Users/kseniahabipova/Downloads/data.csv')\n",
    "data['profit'] = data['revenue'] - data['budget']\n",
    "\n",
    "new_data= data.groupby(['release_year']).sum()\n",
    "\n",
    "new_data[(new_data.profit == new_data.profit.max())]['profit']"
   ]
  },
  {
   "cell_type": "markdown",
   "metadata": {},
   "source": [
    "# 26. Какой Самый прибыльный год для студии Warner Bros?\n",
    "Варианты ответа:\n",
    "1. 2014\n",
    "2. 2008\n",
    "3. 2012\n",
    "4. 2010\n",
    "5. 2015"
   ]
  },
  {
   "cell_type": "code",
   "execution_count": null,
   "metadata": {},
   "outputs": [],
   "source": [
    "answer_ls.append(1)"
   ]
  },
  {
   "cell_type": "code",
   "execution_count": 191,
   "metadata": {},
   "outputs": [
    {
     "data": {
      "text/plain": [
       "release_year\n",
       "2014    2292949646\n",
       "Name: profit, dtype: int64"
      ]
     },
     "execution_count": 191,
     "metadata": {},
     "output_type": "execute_result"
    }
   ],
   "source": [
    "data = pd.read_csv('/Users/kseniahabipova/Downloads/data.csv')\n",
    "data['profit'] = data['revenue'] - data['budget']\n",
    "\n",
    "def replace(x):\n",
    "    i, j = map(int, x.groups())\n",
    "    return ','.join(map(str, range(i, j + 1)))\n",
    "\n",
    "c = data.columns\n",
    "v = data.production_companies.str.replace('(\\d+)-(\\d+)', replace).str.split('|')\n",
    "\n",
    "data = pd.DataFrame(data.drop('production_companies', 1).values.repeat(v.str.len(), axis=0))\n",
    "\n",
    "data.insert(c.get_loc('production_companies'), len(c) - 1, np.concatenate(v))\n",
    "data.columns = c\n",
    "\n",
    "new_data= data[(data.production_companies.str.contains('Warner'))].groupby(['release_year']).sum()\n",
    "\n",
    "new_data[(new_data.profit == new_data.profit.max())]['profit']\n"
   ]
  },
  {
   "cell_type": "markdown",
   "metadata": {},
   "source": [
    "# 27. В каком месяце за все годы суммарно вышло больше всего фильмов?\n",
    "Варианты ответа:\n",
    "1. Январь\n",
    "2. Июнь\n",
    "3. Декабрь\n",
    "4. Сентябрь\n",
    "5. Май"
   ]
  },
  {
   "cell_type": "code",
   "execution_count": null,
   "metadata": {},
   "outputs": [],
   "source": [
    "answer_ls.append(4)"
   ]
  },
  {
   "cell_type": "code",
   "execution_count": 218,
   "metadata": {},
   "outputs": [
    {
     "data": {
      "text/plain": [
       "month\n",
       "9    227\n",
       "Name: original_title, dtype: int64"
      ]
     },
     "execution_count": 218,
     "metadata": {},
     "output_type": "execute_result"
    }
   ],
   "source": [
    "data = pd.read_csv('/Users/kseniahabipova/Downloads/data.csv')\n",
    "\n",
    "new_data = data['release_date'].str.split('/',expand=True)\n",
    "new_data.columns=['month','day','year']\n",
    "\n",
    "final_data = pd.concat([data,new_data],axis=1)\n",
    "\n",
    "result_data = final_data.groupby(['month']).count()\n",
    "result_data[(result_data.original_title == result_data.original_title.max())]['original_title']\n"
   ]
  },
  {
   "cell_type": "markdown",
   "metadata": {},
   "source": [
    "# 28. Сколько суммарно вышло фильмов летом? (за июнь, июль, август)\n",
    "Варианты ответа:\n",
    "1. 345\n",
    "2. 450\n",
    "3. 478\n",
    "4. 523\n",
    "5. 381"
   ]
  },
  {
   "cell_type": "code",
   "execution_count": null,
   "metadata": {},
   "outputs": [],
   "source": [
    "answer_ls.append(2)"
   ]
  },
  {
   "cell_type": "code",
   "execution_count": 231,
   "metadata": {},
   "outputs": [
    {
     "data": {
      "text/plain": [
       "450"
      ]
     },
     "execution_count": 231,
     "metadata": {},
     "output_type": "execute_result"
    }
   ],
   "source": [
    "data = pd.read_csv('/Users/kseniahabipova/Downloads/data.csv')\n",
    "\n",
    "new_data = data['release_date'].str.split('/',expand=True)\n",
    "new_data.columns=['month','day','year']\n",
    "\n",
    "final_data = pd.concat([data,new_data],axis=1)\n",
    "\n",
    "result_data = final_data[(final_data.month == '6') | (final_data.month == '7') | (final_data.month == '8')].groupby(['month']).count()\n",
    "result_data['original_title'].sum()"
   ]
  },
  {
   "cell_type": "markdown",
   "metadata": {},
   "source": [
    "# 29. Какой режисер выпускает (суммарно по годам) больше всего фильмов зимой?\n",
    "Варианты ответов:\n",
    "1. Steven Soderbergh\n",
    "2. Christopher Nolan\n",
    "3. Clint Eastwood\n",
    "4. Ridley Scott\n",
    "5. Peter Jackson"
   ]
  },
  {
   "cell_type": "code",
   "execution_count": null,
   "metadata": {},
   "outputs": [],
   "source": [
    "answer_ls.append(5)"
   ]
  },
  {
   "cell_type": "code",
   "execution_count": 237,
   "metadata": {},
   "outputs": [
    {
     "data": {
      "text/plain": [
       "director\n",
       "Peter Jackson    7\n",
       "Name: original_title, dtype: int64"
      ]
     },
     "execution_count": 237,
     "metadata": {},
     "output_type": "execute_result"
    }
   ],
   "source": [
    "data = pd.read_csv('/Users/kseniahabipova/Downloads/data.csv')\n",
    "\n",
    "new_data = data['release_date'].str.split('/',expand=True)\n",
    "new_data.columns=['month','day','year']\n",
    "\n",
    "final_data = pd.concat([data,new_data],axis=1)\n",
    "\n",
    "\n",
    "result_data = final_data[(final_data.month == '12') | (final_data.month == '1') | (final_data.month == '2')].groupby(['director']).count()\n",
    "result_data[(result_data.original_title == result_data.original_title.max())]['original_title']"
   ]
  },
  {
   "cell_type": "markdown",
   "metadata": {},
   "source": [
    "# 30. Какой месяц чаще всего по годам самый прибыльный?\n",
    "Варианты ответа:\n",
    "1. Январь\n",
    "2. Июнь\n",
    "3. Декабрь\n",
    "4. Сентябрь\n",
    "5. Май"
   ]
  },
  {
   "cell_type": "code",
   "execution_count": null,
   "metadata": {},
   "outputs": [],
   "source": [
    "answer_ls.append(2)"
   ]
  },
  {
   "cell_type": "code",
   "execution_count": 295,
   "metadata": {},
   "outputs": [
    {
     "data": {
      "text/plain": [
       "month\n",
       "6     1.721954e+09\n",
       "12    1.660192e+09\n",
       "5     1.564970e+09\n",
       "11    1.165885e+09\n",
       "7     1.144243e+09\n",
       "3     8.575135e+08\n",
       "10    8.121817e+08\n",
       "4     8.047503e+08\n",
       "9     6.799326e+08\n",
       "8     6.025382e+08\n",
       "2     5.534109e+08\n",
       "1     3.373053e+08\n",
       "Name: profit, dtype: float64"
      ]
     },
     "metadata": {},
     "output_type": "display_data"
    }
   ],
   "source": [
    "data = pd.read_csv('/Users/kseniahabipova/Downloads/data.csv')\n",
    "data['profit'] = data['revenue'] - data['budget']\n",
    "\n",
    "new_data = data['release_date'].str.split('/',expand=True)\n",
    "new_data.columns=['month','day','year']\n",
    "new_data['month_year'] = (new_data['month'] + '/' + new_data['year'])\n",
    "\n",
    "final_data = pd.concat([data,new_data],axis=1)\n",
    "\n",
    "result_data = final_data.groupby(['month_year','month'])['profit'].sum().groupby(['month']).mean().sort_values(ascending=False)\n",
    "\n",
    "display(result_data)"
   ]
  },
  {
   "cell_type": "markdown",
   "metadata": {},
   "source": [
    "# 31. Названия фильмов какой студии в среднем самые длинные по количеству символов?\n",
    "Варианты ответа:\n",
    "1. Universal Pictures (Universal)\n",
    "2. Warner Bros\n",
    "3. Jim Henson Company, The\n",
    "4. Paramount Pictures\n",
    "5. Four By Two Productions"
   ]
  },
  {
   "cell_type": "code",
   "execution_count": null,
   "metadata": {},
   "outputs": [],
   "source": [
    "answer_ls.append(5)"
   ]
  },
  {
   "cell_type": "code",
   "execution_count": 296,
   "metadata": {},
   "outputs": [
    {
     "data": {
      "text/plain": [
       "production_companies\n",
       "Four By Two Productions       83.0\n",
       "Jim Henson Company, The       59.0\n",
       "Dos Corazones                 47.0\n",
       "Polsky Films                  46.0\n",
       "Museum Canada Productions     46.0\n",
       "                              ... \n",
       "Everest Entertainment          3.0\n",
       "Berlanti Productions           3.0\n",
       "XM2 Productions                2.0\n",
       "Ixtlan Productions             2.0\n",
       "Global Entertainment Group     2.0\n",
       "Name: letters, Length: 1772, dtype: float64"
      ]
     },
     "execution_count": 296,
     "metadata": {},
     "output_type": "execute_result"
    }
   ],
   "source": [
    "data = pd.read_csv('/Users/kseniahabipova/Downloads/data.csv')\n",
    "\n",
    "def replace(x):\n",
    "    i, j = map(int, x.groups())\n",
    "    return ','.join(map(str, range(i, j + 1)))\n",
    "\n",
    "c = data.columns\n",
    "v = data.production_companies.str.replace('(\\d+)-(\\d+)', replace).str.split('|')\n",
    "\n",
    "data = pd.DataFrame(data.drop('production_companies', 1).values.repeat(v.str.len(), axis=0))\n",
    "\n",
    "data.insert(c.get_loc('production_companies'), len(c) - 1, np.concatenate(v))\n",
    "data.columns = c\n",
    "\n",
    "data['letters'] = data.original_title.apply(lambda x: len(str(x)))\n",
    "\n",
    "data.groupby(['production_companies'])['letters'].mean().sort_values(ascending=False)\n"
   ]
  },
  {
   "cell_type": "markdown",
   "metadata": {},
   "source": [
    "# 32. Названия фильмов какой студии в среднем самые длинные по количеству слов?\n",
    "Варианты ответа:\n",
    "1. Universal Pictures (Universal)\n",
    "2. Warner Bros\n",
    "3. Jim Henson Company, The\n",
    "4. Paramount Pictures\n",
    "5. Four By Two Productions"
   ]
  },
  {
   "cell_type": "code",
   "execution_count": null,
   "metadata": {},
   "outputs": [],
   "source": [
    "answer_ls.append(5)"
   ]
  },
  {
   "cell_type": "code",
   "execution_count": 298,
   "metadata": {},
   "outputs": [
    {
     "data": {
      "text/plain": [
       "production_companies\n",
       "Four By Two Productions                  12.0\n",
       "Jim Henson Company, The                  10.0\n",
       "Polsky Films                              9.0\n",
       "The Saul Zaentz Company                   9.0\n",
       "Dos Corazones                             9.0\n",
       "                                         ... \n",
       "Many Rivers Productions                   1.0\n",
       "Maple Shade Films                         1.0\n",
       "Blue Productions                          1.0\n",
       "Blue Sea Productions                      1.0\n",
       "Great Wight Productions/ Osford Films     1.0\n",
       "Name: words, Length: 1772, dtype: float64"
      ]
     },
     "execution_count": 298,
     "metadata": {},
     "output_type": "execute_result"
    }
   ],
   "source": [
    "data = pd.read_csv('/Users/kseniahabipova/Downloads/data.csv')\n",
    "\n",
    "def replace(x):\n",
    "    i, j = map(int, x.groups())\n",
    "    return ','.join(map(str, range(i, j + 1)))\n",
    "\n",
    "c = data.columns\n",
    "v = data.production_companies.str.replace('(\\d+)-(\\d+)', replace).str.split('|')\n",
    "\n",
    "data = pd.DataFrame(data.drop('production_companies', 1).values.repeat(v.str.len(), axis=0))\n",
    "\n",
    "data.insert(c.get_loc('production_companies'), len(c) - 1, np.concatenate(v))\n",
    "data.columns = c\n",
    "\n",
    "def whitespace(b):\n",
    "    b=b.split()\n",
    "    l=len(b)\n",
    "    return l\n",
    "\n",
    "data['words'] = data.original_title.apply(whitespace)\n",
    "data.groupby(['production_companies'])['words'].mean().sort_values(ascending=False)"
   ]
  },
  {
   "cell_type": "markdown",
   "metadata": {},
   "source": [
    "# 33. Сколько разных слов используется в названиях фильмов?(без учета регистра)\n",
    "Варианты ответа:\n",
    "1. 6540\n",
    "2. 1002\n",
    "3. 2461\n",
    "4. 28304\n",
    "5. 3432"
   ]
  },
  {
   "cell_type": "code",
   "execution_count": null,
   "metadata": {},
   "outputs": [],
   "source": [
    "answer_ls.append(3)"
   ]
  },
  {
   "cell_type": "code",
   "execution_count": 375,
   "metadata": {},
   "outputs": [
    {
     "data": {
      "text/plain": [
       "2461"
      ]
     },
     "execution_count": 375,
     "metadata": {},
     "output_type": "execute_result"
    }
   ],
   "source": [
    "import pandas as pd\n",
    "import re\n",
    "\n",
    "data = pd.read_csv('/Users/kseniahabipova/Downloads/data.csv')\n",
    "\n",
    "def replace(x):\n",
    "    i, j = map(int, x.groups())\n",
    "    return ','.join(map(str, range(i, j + 1)))\n",
    "\n",
    "c = data.columns\n",
    "v = data.original_title.str.replace('(\\d+)-(\\d+)', replace).str.split(' ')\n",
    "\n",
    "data = pd.DataFrame(data.drop('original_title', 1).values.repeat(v.str.len(), axis=0))\n",
    "\n",
    "data.insert(c.get_loc('original_title'), len(c) - 1, np.concatenate(v))\n",
    "data.columns = c\n",
    "\n",
    "data['original_title'] = data.original_title.apply(lambda x: str(x).lower())\n",
    "\n",
    "def Clean_words(x): \n",
    "    if re.search('\\s', x): \n",
    "        return ''   \n",
    "    else: \n",
    "        return x \n",
    "\n",
    "data['new_words'] = data.original_title.apply(Clean_words)\n",
    "\n",
    "data['new_words'].nunique()"
   ]
  },
  {
   "cell_type": "markdown",
   "metadata": {},
   "source": [
    "# 34. Какие фильмы входят в 1 процент лучших по рейтингу?\n",
    "Варианты ответа:\n",
    "1. Inside Out, Gone Girl, 12 Years a Slave\n",
    "2. BloodRayne, The Adventures of Rocky & Bullwinkle\n",
    "3. The Lord of the Rings: The Return of the King\n",
    "4. 300, Lucky Number Slevin"
   ]
  },
  {
   "cell_type": "code",
   "execution_count": null,
   "metadata": {},
   "outputs": [],
   "source": [
    "answer_ls.append(1)"
   ]
  },
  {
   "cell_type": "code",
   "execution_count": 1132,
   "metadata": {},
   "outputs": [
    {
     "data": {
      "text/html": [
       "<div>\n",
       "<style scoped>\n",
       "    .dataframe tbody tr th:only-of-type {\n",
       "        vertical-align: middle;\n",
       "    }\n",
       "\n",
       "    .dataframe tbody tr th {\n",
       "        vertical-align: top;\n",
       "    }\n",
       "\n",
       "    .dataframe thead th {\n",
       "        text-align: right;\n",
       "    }\n",
       "</style>\n",
       "<table border=\"1\" class=\"dataframe\">\n",
       "  <thead>\n",
       "    <tr style=\"text-align: right;\">\n",
       "      <th></th>\n",
       "      <th>vote_average</th>\n",
       "      <th>original_title</th>\n",
       "    </tr>\n",
       "  </thead>\n",
       "  <tbody>\n",
       "    <tr>\n",
       "      <td>600</td>\n",
       "      <td>8.1</td>\n",
       "      <td>The Dark Knight</td>\n",
       "    </tr>\n",
       "    <tr>\n",
       "      <td>125</td>\n",
       "      <td>8.0</td>\n",
       "      <td>The Imitation Game</td>\n",
       "    </tr>\n",
       "    <tr>\n",
       "      <td>9</td>\n",
       "      <td>8.0</td>\n",
       "      <td>Inside Out</td>\n",
       "    </tr>\n",
       "    <tr>\n",
       "      <td>118</td>\n",
       "      <td>8.0</td>\n",
       "      <td>Interstellar</td>\n",
       "    </tr>\n",
       "    <tr>\n",
       "      <td>34</td>\n",
       "      <td>8.0</td>\n",
       "      <td>Room</td>\n",
       "    </tr>\n",
       "    <tr>\n",
       "      <td>1082</td>\n",
       "      <td>7.9</td>\n",
       "      <td>The Lord of the Rings: The Return of the King</td>\n",
       "    </tr>\n",
       "    <tr>\n",
       "      <td>873</td>\n",
       "      <td>7.9</td>\n",
       "      <td>The Pianist</td>\n",
       "    </tr>\n",
       "    <tr>\n",
       "      <td>1801</td>\n",
       "      <td>7.9</td>\n",
       "      <td>Memento</td>\n",
       "    </tr>\n",
       "    <tr>\n",
       "      <td>1192</td>\n",
       "      <td>7.9</td>\n",
       "      <td>12 Years a Slave</td>\n",
       "    </tr>\n",
       "    <tr>\n",
       "      <td>128</td>\n",
       "      <td>7.9</td>\n",
       "      <td>Gone Girl</td>\n",
       "    </tr>\n",
       "    <tr>\n",
       "      <td>138</td>\n",
       "      <td>7.9</td>\n",
       "      <td>The Grand Budapest Hotel</td>\n",
       "    </tr>\n",
       "    <tr>\n",
       "      <td>119</td>\n",
       "      <td>7.9</td>\n",
       "      <td>Guardians of the Galaxy</td>\n",
       "    </tr>\n",
       "    <tr>\n",
       "      <td>1184</td>\n",
       "      <td>7.9</td>\n",
       "      <td>The Wolf of Wall Street</td>\n",
       "    </tr>\n",
       "    <tr>\n",
       "      <td>370</td>\n",
       "      <td>7.9</td>\n",
       "      <td>Inception</td>\n",
       "    </tr>\n",
       "    <tr>\n",
       "      <td>316</td>\n",
       "      <td>7.8</td>\n",
       "      <td>3 Idiots</td>\n",
       "    </tr>\n",
       "    <tr>\n",
       "      <td>1564</td>\n",
       "      <td>7.8</td>\n",
       "      <td>Eternal Sunshine of the Spotless Mind</td>\n",
       "    </tr>\n",
       "    <tr>\n",
       "      <td>497</td>\n",
       "      <td>7.8</td>\n",
       "      <td>The Lord of the Rings: The Fellowship of the Ring</td>\n",
       "    </tr>\n",
       "    <tr>\n",
       "      <td>28</td>\n",
       "      <td>7.8</td>\n",
       "      <td>Spotlight</td>\n",
       "    </tr>\n",
       "    <tr>\n",
       "      <td>1214</td>\n",
       "      <td>7.8</td>\n",
       "      <td>Dallas Buyers Club</td>\n",
       "    </tr>\n",
       "  </tbody>\n",
       "</table>\n",
       "</div>"
      ],
      "text/plain": [
       "      vote_average                                     original_title\n",
       "600            8.1                                    The Dark Knight\n",
       "125            8.0                                 The Imitation Game\n",
       "9              8.0                                         Inside Out\n",
       "118            8.0                                       Interstellar\n",
       "34             8.0                                               Room\n",
       "1082           7.9      The Lord of the Rings: The Return of the King\n",
       "873            7.9                                        The Pianist\n",
       "1801           7.9                                            Memento\n",
       "1192           7.9                                   12 Years a Slave\n",
       "128            7.9                                          Gone Girl\n",
       "138            7.9                           The Grand Budapest Hotel\n",
       "119            7.9                            Guardians of the Galaxy\n",
       "1184           7.9                            The Wolf of Wall Street\n",
       "370            7.9                                          Inception\n",
       "316            7.8                                           3 Idiots\n",
       "1564           7.8              Eternal Sunshine of the Spotless Mind\n",
       "497            7.8  The Lord of the Rings: The Fellowship of the Ring\n",
       "28             7.8                                          Spotlight\n",
       "1214           7.8                                 Dallas Buyers Club"
      ]
     },
     "metadata": {},
     "output_type": "display_data"
    }
   ],
   "source": [
    "data = pd.read_csv('/Users/kseniahabipova/Downloads/data.csv')\n",
    "x = len(data['vote_average'])/100\n",
    "new_data = data[['vote_average', 'original_title']]\n",
    "df_sorted = new_data.sort_values('vote_average', ascending=False)\n",
    "\n",
    "display(df_sorted[0:round(x)])"
   ]
  },
  {
   "cell_type": "code",
   "execution_count": 1133,
   "metadata": {},
   "outputs": [
    {
     "data": {
      "text/html": [
       "<div>\n",
       "<style scoped>\n",
       "    .dataframe tbody tr th:only-of-type {\n",
       "        vertical-align: middle;\n",
       "    }\n",
       "\n",
       "    .dataframe tbody tr th {\n",
       "        vertical-align: top;\n",
       "    }\n",
       "\n",
       "    .dataframe thead th {\n",
       "        text-align: right;\n",
       "    }\n",
       "</style>\n",
       "<table border=\"1\" class=\"dataframe\">\n",
       "  <thead>\n",
       "    <tr style=\"text-align: right;\">\n",
       "      <th></th>\n",
       "      <th>vote_average</th>\n",
       "      <th>original_title</th>\n",
       "      <th>groups</th>\n",
       "    </tr>\n",
       "  </thead>\n",
       "  <tbody>\n",
       "    <tr>\n",
       "      <td>600</td>\n",
       "      <td>8.1</td>\n",
       "      <td>The Dark Knight</td>\n",
       "      <td>(8.052, 8.1]</td>\n",
       "    </tr>\n",
       "    <tr>\n",
       "      <td>125</td>\n",
       "      <td>8.0</td>\n",
       "      <td>The Imitation Game</td>\n",
       "      <td>(7.956, 8.004]</td>\n",
       "    </tr>\n",
       "    <tr>\n",
       "      <td>9</td>\n",
       "      <td>8.0</td>\n",
       "      <td>Inside Out</td>\n",
       "      <td>(7.956, 8.004]</td>\n",
       "    </tr>\n",
       "    <tr>\n",
       "      <td>118</td>\n",
       "      <td>8.0</td>\n",
       "      <td>Interstellar</td>\n",
       "      <td>(7.956, 8.004]</td>\n",
       "    </tr>\n",
       "    <tr>\n",
       "      <td>34</td>\n",
       "      <td>8.0</td>\n",
       "      <td>Room</td>\n",
       "      <td>(7.956, 8.004]</td>\n",
       "    </tr>\n",
       "    <tr>\n",
       "      <td>1082</td>\n",
       "      <td>7.9</td>\n",
       "      <td>The Lord of the Rings: The Return of the King</td>\n",
       "      <td>(7.86, 7.908]</td>\n",
       "    </tr>\n",
       "    <tr>\n",
       "      <td>873</td>\n",
       "      <td>7.9</td>\n",
       "      <td>The Pianist</td>\n",
       "      <td>(7.86, 7.908]</td>\n",
       "    </tr>\n",
       "    <tr>\n",
       "      <td>1801</td>\n",
       "      <td>7.9</td>\n",
       "      <td>Memento</td>\n",
       "      <td>(7.86, 7.908]</td>\n",
       "    </tr>\n",
       "    <tr>\n",
       "      <td>1192</td>\n",
       "      <td>7.9</td>\n",
       "      <td>12 Years a Slave</td>\n",
       "      <td>(7.86, 7.908]</td>\n",
       "    </tr>\n",
       "    <tr>\n",
       "      <td>128</td>\n",
       "      <td>7.9</td>\n",
       "      <td>Gone Girl</td>\n",
       "      <td>(7.86, 7.908]</td>\n",
       "    </tr>\n",
       "    <tr>\n",
       "      <td>138</td>\n",
       "      <td>7.9</td>\n",
       "      <td>The Grand Budapest Hotel</td>\n",
       "      <td>(7.86, 7.908]</td>\n",
       "    </tr>\n",
       "    <tr>\n",
       "      <td>119</td>\n",
       "      <td>7.9</td>\n",
       "      <td>Guardians of the Galaxy</td>\n",
       "      <td>(7.86, 7.908]</td>\n",
       "    </tr>\n",
       "    <tr>\n",
       "      <td>1184</td>\n",
       "      <td>7.9</td>\n",
       "      <td>The Wolf of Wall Street</td>\n",
       "      <td>(7.86, 7.908]</td>\n",
       "    </tr>\n",
       "    <tr>\n",
       "      <td>370</td>\n",
       "      <td>7.9</td>\n",
       "      <td>Inception</td>\n",
       "      <td>(7.86, 7.908]</td>\n",
       "    </tr>\n",
       "    <tr>\n",
       "      <td>316</td>\n",
       "      <td>7.8</td>\n",
       "      <td>3 Idiots</td>\n",
       "      <td>(7.764, 7.812]</td>\n",
       "    </tr>\n",
       "    <tr>\n",
       "      <td>1564</td>\n",
       "      <td>7.8</td>\n",
       "      <td>Eternal Sunshine of the Spotless Mind</td>\n",
       "      <td>(7.764, 7.812]</td>\n",
       "    </tr>\n",
       "    <tr>\n",
       "      <td>497</td>\n",
       "      <td>7.8</td>\n",
       "      <td>The Lord of the Rings: The Fellowship of the Ring</td>\n",
       "      <td>(7.764, 7.812]</td>\n",
       "    </tr>\n",
       "    <tr>\n",
       "      <td>28</td>\n",
       "      <td>7.8</td>\n",
       "      <td>Spotlight</td>\n",
       "      <td>(7.764, 7.812]</td>\n",
       "    </tr>\n",
       "    <tr>\n",
       "      <td>1214</td>\n",
       "      <td>7.8</td>\n",
       "      <td>Dallas Buyers Club</td>\n",
       "      <td>(7.764, 7.812]</td>\n",
       "    </tr>\n",
       "    <tr>\n",
       "      <td>864</td>\n",
       "      <td>7.8</td>\n",
       "      <td>The Lord of the Rings: The Two Towers</td>\n",
       "      <td>(7.764, 7.812]</td>\n",
       "    </tr>\n",
       "  </tbody>\n",
       "</table>\n",
       "</div>"
      ],
      "text/plain": [
       "      vote_average                                     original_title  \\\n",
       "600            8.1                                    The Dark Knight   \n",
       "125            8.0                                 The Imitation Game   \n",
       "9              8.0                                         Inside Out   \n",
       "118            8.0                                       Interstellar   \n",
       "34             8.0                                               Room   \n",
       "1082           7.9      The Lord of the Rings: The Return of the King   \n",
       "873            7.9                                        The Pianist   \n",
       "1801           7.9                                            Memento   \n",
       "1192           7.9                                   12 Years a Slave   \n",
       "128            7.9                                          Gone Girl   \n",
       "138            7.9                           The Grand Budapest Hotel   \n",
       "119            7.9                            Guardians of the Galaxy   \n",
       "1184           7.9                            The Wolf of Wall Street   \n",
       "370            7.9                                          Inception   \n",
       "316            7.8                                           3 Idiots   \n",
       "1564           7.8              Eternal Sunshine of the Spotless Mind   \n",
       "497            7.8  The Lord of the Rings: The Fellowship of the Ring   \n",
       "28             7.8                                          Spotlight   \n",
       "1214           7.8                                 Dallas Buyers Club   \n",
       "864            7.8              The Lord of the Rings: The Two Towers   \n",
       "\n",
       "              groups  \n",
       "600     (8.052, 8.1]  \n",
       "125   (7.956, 8.004]  \n",
       "9     (7.956, 8.004]  \n",
       "118   (7.956, 8.004]  \n",
       "34    (7.956, 8.004]  \n",
       "1082   (7.86, 7.908]  \n",
       "873    (7.86, 7.908]  \n",
       "1801   (7.86, 7.908]  \n",
       "1192   (7.86, 7.908]  \n",
       "128    (7.86, 7.908]  \n",
       "138    (7.86, 7.908]  \n",
       "119    (7.86, 7.908]  \n",
       "1184   (7.86, 7.908]  \n",
       "370    (7.86, 7.908]  \n",
       "316   (7.764, 7.812]  \n",
       "1564  (7.764, 7.812]  \n",
       "497   (7.764, 7.812]  \n",
       "28    (7.764, 7.812]  \n",
       "1214  (7.764, 7.812]  \n",
       "864   (7.764, 7.812]  "
      ]
     },
     "metadata": {},
     "output_type": "display_data"
    }
   ],
   "source": [
    "data = pd.read_csv('/Users/kseniahabipova/Downloads/data.csv')\n",
    "data['groups'] = pd.cut(data['vote_average'], bins=100)\n",
    "new_data = data[['vote_average', 'original_title', 'groups']]\n",
    "df_sorted = new_data.sort_values('vote_average', ascending=False)\n",
    "\n",
    "display(df_sorted.head(20))"
   ]
  },
  {
   "cell_type": "markdown",
   "metadata": {},
   "source": [
    "# 35. Какие актеры чаще всего снимаются в одном фильме вместе\n",
    "Варианты ответа:\n",
    "1. Johnny Depp & Helena Bonham Carter\n",
    "2. Hugh Jackman & Ian McKellen\n",
    "3. Vin Diesel & Paul Walker\n",
    "4. Adam Sandler & Kevin James\n",
    "5. Daniel Radcliffe & Rupert Grint"
   ]
  },
  {
   "cell_type": "code",
   "execution_count": null,
   "metadata": {},
   "outputs": [],
   "source": [
    "answer_ls.append(5)"
   ]
  },
  {
   "cell_type": "code",
   "execution_count": 1147,
   "metadata": {},
   "outputs": [
    {
     "name": "stdout",
     "output_type": "stream",
     "text": [
      "cast1    4\n",
      "cast2    4\n",
      "cast3    4\n",
      "cast4    4\n",
      "cast5    4\n",
      "dtype: int64 cast1    2\n",
      "cast2    2\n",
      "cast3    2\n",
      "cast4    2\n",
      "cast5    2\n",
      "dtype: int64 cast1    3\n",
      "cast2    3\n",
      "cast3    3\n",
      "cast4    3\n",
      "cast5    3\n",
      "dtype: int64 cast1    4\n",
      "cast2    4\n",
      "cast3    4\n",
      "cast4    4\n",
      "cast5    4\n",
      "dtype: int64 cast1    8\n",
      "cast2    8\n",
      "cast3    8\n",
      "cast4    8\n",
      "cast5    8\n",
      "dtype: int64\n"
     ]
    }
   ],
   "source": [
    "data = pd.read_csv('/Users/kseniahabipova/Downloads/data.csv')\n",
    "new_data = data['cast'].str.split('|',expand=True)\n",
    "new_data.columns=['cast1','cast2','cast3','cast4','cast5']\n",
    "x = new_data[(new_data.cast1 == 'Johnny Depp')&((new_data.cast1 == 'Helena Bonham Carter')|\n",
    "                                           (new_data.cast2 == 'Helena Bonham Carter')|\n",
    "                                           (new_data.cast3 == 'Helena Bonham Carter')|\n",
    "                                           (new_data.cast4 == 'Helena Bonham Carter'))].count()\n",
    "y = new_data[(new_data.cast1 == 'Hugh Jackman')&((new_data.cast1 == 'Ian McKellen')|\n",
    "                                           (new_data.cast2 == 'Ian McKellen')|\n",
    "                                           (new_data.cast3 == 'Ian McKellen')|\n",
    "                                           (new_data.cast4 == 'Ian McKellen'))].count()\n",
    "w = new_data[(new_data.cast1 == 'Vin Diesel')&((new_data.cast1 == 'Paul Walker')|\n",
    "                                           (new_data.cast2 == 'Paul Walker')|\n",
    "                                           (new_data.cast3 == 'Paul Walker')|\n",
    "                                           (new_data.cast4 == 'Paul Walker'))].count()\n",
    "z = new_data[(new_data.cast1 == 'Adam Sandler')&((new_data.cast1 == 'Kevin James')|\n",
    "                                           (new_data.cast2 == 'Kevin James')|\n",
    "                                           (new_data.cast3 == 'Kevin James')|\n",
    "                                           (new_data.cast4 == 'Kevin James'))].count()\n",
    "t = new_data[(new_data.cast1 == 'Daniel Radcliffe')&((new_data.cast1 == 'Rupert Grint')|\n",
    "                                           (new_data.cast2 == 'Rupert Grint')|\n",
    "                                           (new_data.cast3 == 'Rupert Grint')|\n",
    "                                           (new_data.cast4 == 'Rupert Grint'))].count()\n",
    "print(x,y,w,z,t)\n"
   ]
  },
  {
   "cell_type": "markdown",
   "metadata": {},
   "source": [
    "# 36. У какого из режиссеров выше вероятность выпустить фильм в прибыли? (5 баллов)101\n",
    "Варианты ответа:\n",
    "1. Quentin Tarantino\n",
    "2. Steven Soderbergh\n",
    "3. Robert Rodriguez\n",
    "4. Christopher Nolan\n",
    "5. Clint Eastwood"
   ]
  },
  {
   "cell_type": "code",
   "execution_count": null,
   "metadata": {},
   "outputs": [],
   "source": [
    "answer_ls.append(4)"
   ]
  },
  {
   "cell_type": "code",
   "execution_count": 993,
   "metadata": {},
   "outputs": [
    {
     "data": {
      "text/plain": [
       "director\n",
       "Ridley Scott                    12.076923\n",
       "Steven Spielberg                10.090909\n",
       "Antoine Fuqua                    8.111111\n",
       "Peter Jackson                    8.111111\n",
       "Tim Burton                       8.111111\n",
       "                                  ...    \n",
       "Andrew Davis                     0.428571\n",
       "Michael Dowse                    0.428571\n",
       "Brian Koppelman|David Levien     0.428571\n",
       "Neil Marshall                    0.428571\n",
       "Renny Harlin                     0.423077\n",
       "Name: sh, Length: 958, dtype: float64"
      ]
     },
     "execution_count": 993,
     "metadata": {},
     "output_type": "execute_result"
    }
   ],
   "source": [
    "data = pd.read_csv('/Users/kseniahabipova/Downloads/data.csv')\n",
    "data['profit'] = data['revenue'] - data['budget']\n",
    "data['films'] = 1\n",
    "data['yes'] = np.where(data.profit <= 0, 0, 1)\n",
    "data['no'] = np.where(data.profit <= 0, 1, 0)\n",
    "# l = data[(data.director == 'Quentin Tarantino')|(data.director == 'Steven Soderbergh')|(data.director == 'Robert Rodriguez')\n",
    "#         |(data.director == 'Christopher Nolan')|(data.director == 'Clint Eastwood')]\n",
    "t = data.drop(['imdb_id','popularity','cast','tagline',\n",
    "           'overview','runtime','genres','production_companies',\n",
    "           'vote_count','vote_average','release_year','budget','revenue','release_date',\n",
    "                      'profit','original_title'],axis=1)\n",
    "\n",
    "\n",
    "new_data = t.groupby(['director']).sum()\n",
    "\n",
    "new_data['sh'] = (new_data['yes']+1/new_data['films']+1)/(new_data['no']+1/new_data['films']+1)\n",
    "new_data['sh'].sort_values(ascending=False)"
   ]
  },
  {
   "cell_type": "markdown",
   "metadata": {},
   "source": [
    "# Submission"
   ]
  },
  {
   "cell_type": "code",
   "execution_count": 382,
   "metadata": {},
   "outputs": [
    {
     "data": {
      "text/plain": [
       "0"
      ]
     },
     "execution_count": 382,
     "metadata": {},
     "output_type": "execute_result"
    }
   ],
   "source": [
    "len(answer_ls)"
   ]
  },
  {
   "cell_type": "code",
   "execution_count": 380,
   "metadata": {},
   "outputs": [
    {
     "data": {
      "text/html": [
       "<div>\n",
       "<style scoped>\n",
       "    .dataframe tbody tr th:only-of-type {\n",
       "        vertical-align: middle;\n",
       "    }\n",
       "\n",
       "    .dataframe tbody tr th {\n",
       "        vertical-align: top;\n",
       "    }\n",
       "\n",
       "    .dataframe thead th {\n",
       "        text-align: right;\n",
       "    }\n",
       "</style>\n",
       "<table border=\"1\" class=\"dataframe\">\n",
       "  <thead>\n",
       "    <tr style=\"text-align: right;\">\n",
       "      <th></th>\n",
       "      <th>Id</th>\n",
       "      <th>Answer</th>\n",
       "    </tr>\n",
       "  </thead>\n",
       "  <tbody>\n",
       "  </tbody>\n",
       "</table>\n",
       "</div>"
      ],
      "text/plain": [
       "Empty DataFrame\n",
       "Columns: [Id, Answer]\n",
       "Index: []"
      ]
     },
     "execution_count": 380,
     "metadata": {},
     "output_type": "execute_result"
    }
   ],
   "source": [
    "pd.DataFrame({'Id':range(1,len(answer_ls)+1), 'Answer':answer_ls}, columns=['Id', 'Answer'])"
   ]
  },
  {
   "cell_type": "code",
   "execution_count": null,
   "metadata": {},
   "outputs": [],
   "source": []
  }
 ],
 "metadata": {
  "kernelspec": {
   "display_name": "Python 3",
   "language": "python",
   "name": "python3"
  }
 },
 "nbformat": 4,
 "nbformat_minor": 4
}
